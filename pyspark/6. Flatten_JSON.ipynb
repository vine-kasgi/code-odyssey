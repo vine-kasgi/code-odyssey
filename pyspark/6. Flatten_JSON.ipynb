{
 "cells": [
  {
   "cell_type": "markdown",
   "id": "7c488751",
   "metadata": {},
   "source": [
    "# Flatten_Zomato_Restaurants_data_JSON"
   ]
  },
  {
   "cell_type": "code",
   "execution_count": 2,
   "id": "87b0c33f",
   "metadata": {},
   "outputs": [],
   "source": [
    "from pyspark.sql import SparkSession,DataFrame\n",
    "\n",
    "# Create spark session\n",
    "spark : SparkSession = SparkSession.builder.getOrCreate()"
   ]
  },
  {
   "cell_type": "markdown",
   "id": "cd9e052f",
   "metadata": {},
   "source": [
    "## 🍽️ Scenario:"
   ]
  },
  {
   "cell_type": "markdown",
   "id": "4a5831f0",
   "metadata": {},
   "source": [
    "<p>\n",
    "You are building a feature to analyze restaurant popularity and delivery availability by location.\n",
    "\n",
    "The marketing team wants to identify:\n",
    "\n",
    "1. Top-rated restaurants (by user_rating.aggregate_rating) in cities like Delhi, Mumbai, and Bangalore.\n",
    "2. Which areas (localities) have restaurants that are currently delivering now.\n",
    "3. A breakdown of average cost for two, grouped by city and cuisine.\n",
    "4. A filterable table that shows:\n",
    "\n",
    "    - Restaurant Name\n",
    "    - City\n",
    "    - Cuisine\n",
    "    - Delivery Status (is_delivering_now)\n",
    "    - Aggregate Rating\n",
    "    - Average Cost\n",
    "    - Votes\n",
    "    - Menu URL\n",
    "\n",
    "To achieve this, you'll need to flatten multiple nested fields (e.g., restaurant.location.city, restaurant.user_rating.aggregate_rating, etc.) and possibly explode arrays like restaurants, and handle nested structs cleanly.\n",
    "</p>"
   ]
  },
  {
   "cell_type": "code",
   "execution_count": 57,
   "id": "aeebe34d",
   "metadata": {},
   "outputs": [
    {
     "name": "stdout",
     "output_type": "stream",
     "text": [
      "c:\\Users\\vikas\\OneDrive\\Desktop\\Projects\\code-odyssey\\pyspark//datasets//zomato_restaurants_data.json\n"
     ]
    }
   ],
   "source": [
    "# imports\n",
    "import os\n",
    "from pyspark.sql.functions import explode,explode_outer,collect_list,col,split,avg,trim\n",
    "\n",
    "pwd = os.getcwd()\n",
    "filepath = pwd+'//datasets//zomato_restaurants_data.json'\n",
    "print(filepath)"
   ]
  },
  {
   "cell_type": "code",
   "execution_count": 12,
   "id": "060676ea",
   "metadata": {},
   "outputs": [],
   "source": [
    "# read json from ./pyspark/datasets/zomato_restaurants_data.json\n",
    "restaurants_df = spark.read.format('json').option('multiline', 'True').option('inferschema','True').load(filepath)"
   ]
  },
  {
   "cell_type": "code",
   "execution_count": 58,
   "id": "392f18a5",
   "metadata": {},
   "outputs": [],
   "source": [
    "restaurant_flat = restaurants_df.drop('code','message').withColumn('restaurants', explode(restaurants_df.restaurants))"
   ]
  },
  {
   "cell_type": "code",
   "execution_count": 76,
   "id": "b304919a",
   "metadata": {},
   "outputs": [],
   "source": [
    "df2 = restaurant_flat.select(\n",
    "                    col('restaurants.restaurant.name').alias('Restaurant_Name'),\n",
    "                    col('restaurants.restaurant.location.city').alias('City') ,\n",
    "                    split(col('restaurants.restaurant.cuisines'),',').alias('Cuisines'),\n",
    "                    col('restaurants.restaurant.is_delivering_now').alias('Delivery_Status'),\n",
    "                    col('restaurants.restaurant.user_rating.aggregate_rating').alias('Aggregate_Rating'),\n",
    "                    col('restaurants.restaurant.average_cost_for_two').alias('Average_Cost'),\n",
    "                    col('restaurants.restaurant.user_rating.votes').alias('Votes'),\n",
    "                    col('restaurants.restaurant.menu_url').alias('Menu_URL')) \\\n",
    "            .filter(col('restaurants.restaurant.is_delivering_now') == 0)"
   ]
  },
  {
   "cell_type": "code",
   "execution_count": 77,
   "id": "5055e5ef",
   "metadata": {},
   "outputs": [],
   "source": [
    "df2 = df2.withColumn(\"Cuisine\", (explode(\"Cuisines\"))).drop('Cuisines')\n",
    "df2 = df2.withColumn(\"Cuisine\",trim(col('Cuisine')))"
   ]
  },
  {
   "cell_type": "code",
   "execution_count": 78,
   "id": "9dcd2867",
   "metadata": {},
   "outputs": [
    {
     "name": "stdout",
     "output_type": "stream",
     "text": [
      "+--------------------+-------+---------------+----------------+------------+-----+--------------------+--------------+\n",
      "|     Restaurant_Name|   City|Delivery_Status|Aggregate_Rating|Average_Cost|Votes|            Menu_URL|       Cuisine|\n",
      "+--------------------+-------+---------------+----------------+------------+-----+--------------------+--------------+\n",
      "|            The Coop|Orlando|              0|             3.6|          25|  432|https://www.zomat...|      Southern|\n",
      "|            The Coop|Orlando|              0|             3.6|          25|  432|https://www.zomat...|         Cajun|\n",
      "|            The Coop|Orlando|              0|             3.6|          25|  432|https://www.zomat...|     Soul Food|\n",
      "|Maggiano's Little...|Orlando|              0|             4.4|          50|  886|https://www.zomat...|       Italian|\n",
      "|Tako Cheena by Po...|Orlando|              0|             4.4|          10|  570|https://www.zomat...|         Asian|\n",
      "|Tako Cheena by Po...|Orlando|              0|             4.4|          10|  570|https://www.zomat...|Latin American|\n",
      "|Tako Cheena by Po...|Orlando|              0|             4.4|          10|  570|https://www.zomat...|    Vegetarian|\n",
      "|Bosphorous Turkis...|Orlando|              0|             4.2|          40|  568|https://www.zomat...| Mediterranean|\n",
      "|Bosphorous Turkis...|Orlando|              0|             4.2|          40|  568|https://www.zomat...|       Turkish|\n",
      "|Bahama Breeze Isl...|Orlando|              0|             4.3|          45|  910|https://www.zomat...|     Caribbean|\n",
      "|Hawkers Asian Str...|Orlando|              0|             4.6|          35| 1293|https://www.zomat...|         Asian|\n",
      "|Hawkers Asian Str...|Orlando|              0|             4.6|          35| 1293|https://www.zomat...|          Thai|\n",
      "|Seasons 52 Fresh ...|Orlando|              0|             4.4|          60| 1685|https://www.zomat...|      American|\n",
      "|Raglan Road Irish...|Orlando|              0|             4.3|          50|  782|https://www.zomat...|         Irish|\n",
      "|           Hillstone|Orlando|              0|             4.4|          40| 1158|https://www.zomat...|              |\n",
      "|Hollerbach's Will...|Orlando|              0|             4.8|          40| 1699|https://www.zomat...|        German|\n",
      "|     Texas de Brazil|Orlando|              0|             4.6|         100| 2324|https://www.zomat...|     Brazilian|\n",
      "|     Texas de Brazil|Orlando|              0|             4.6|         100| 2324|https://www.zomat...|         Steak|\n",
      "|    The Ravenous Pig|Orlando|              0|             4.4|          40| 1998|https://www.zomat...|      Pub Food|\n",
      "|    Earl of Sandwich|Orlando|              0|             4.7|          35| 1341|https://www.zomat...|      American|\n",
      "+--------------------+-------+---------------+----------------+------------+-----+--------------------+--------------+\n",
      "only showing top 20 rows\n",
      "\n"
     ]
    }
   ],
   "source": [
    "df2.show()"
   ]
  },
  {
   "cell_type": "code",
   "execution_count": 79,
   "id": "36ef004a",
   "metadata": {},
   "outputs": [],
   "source": [
    "spark.stop()"
   ]
  },
  {
   "cell_type": "code",
   "execution_count": null,
   "id": "1abf10ff",
   "metadata": {},
   "outputs": [],
   "source": []
  }
 ],
 "metadata": {
  "kernelspec": {
   "display_name": "PySpark (Manual)",
   "language": "python",
   "name": "pyspark"
  },
  "language_info": {
   "codemirror_mode": {
    "name": "ipython",
    "version": 3
   },
   "file_extension": ".py",
   "mimetype": "text/x-python",
   "name": "python",
   "nbconvert_exporter": "python",
   "pygments_lexer": "ipython3",
   "version": "3.11.9"
  }
 },
 "nbformat": 4,
 "nbformat_minor": 5
}
