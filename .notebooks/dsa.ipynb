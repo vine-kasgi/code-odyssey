{
 "cells": [
  {
   "cell_type": "markdown",
   "id": "e7f01f9f",
   "metadata": {},
   "source": [
    "## array _duplicates"
   ]
  },
  {
   "cell_type": "code",
   "execution_count": 1,
   "id": "1baef875",
   "metadata": {},
   "outputs": [],
   "source": [
    "arr = [2, 3, 1, 2, 3]"
   ]
  },
  {
   "cell_type": "code",
   "execution_count": 9,
   "id": "100ccbb8",
   "metadata": {},
   "outputs": [
    {
     "name": "stdout",
     "output_type": "stream",
     "text": [
      "[2, 3]\n"
     ]
    }
   ],
   "source": [
    "result = []\n",
    "\n",
    "for i in range(len(arr)):\n",
    "    for j in range(i+1,len(arr)):\n",
    "        if arr[j] == arr[i]:\n",
    "            result.append(arr[j])\n",
    "\n",
    "print(result)\n",
    "\n"
   ]
  },
  {
   "cell_type": "code",
   "execution_count": 10,
   "id": "492f4dc0",
   "metadata": {},
   "outputs": [
    {
     "name": "stdout",
     "output_type": "stream",
     "text": [
      "{2: 2, 3: 2, 1: 1}\n",
      "[2, 3]\n"
     ]
    }
   ],
   "source": [
    "count = {}\n",
    "result2 = []\n",
    "for nums in arr:\n",
    "    count[nums] = count.get(nums,0) + 1\n",
    "\n",
    "for k,v in count.items():\n",
    "    if v > 1:\n",
    "        result2.append(k)\n",
    "\n",
    "print(count)\n",
    "print(result2)"
   ]
  },
  {
   "cell_type": "markdown",
   "id": "a932f3f7",
   "metadata": {},
   "source": [
    "## array Leaders"
   ]
  },
  {
   "cell_type": "code",
   "execution_count": 12,
   "id": "2affa057",
   "metadata": {},
   "outputs": [
    {
     "name": "stdout",
     "output_type": "stream",
     "text": [
      "[17, 5, 2]\n"
     ]
    }
   ],
   "source": [
    "arr = [16, 17, 4, 3, 5, 2]\n",
    "leaders = []\n",
    "for i in range(len(arr)):\n",
    "    is_leader = True\n",
    "    for j in range(i+1,len(arr)):\n",
    "        if arr[j]>arr[i]: # sure arr[i] is not the leader\n",
    "            is_leader = False\n",
    "            break\n",
    "    if is_leader:\n",
    "        leaders.append(arr[i])\n",
    "print(leaders)\n"
   ]
  },
  {
   "cell_type": "code",
   "execution_count": null,
   "id": "78e112b8",
   "metadata": {},
   "outputs": [],
   "source": []
  }
 ],
 "metadata": {
  "kernelspec": {
   "display_name": "3.11.9",
   "language": "python",
   "name": "python3"
  },
  "language_info": {
   "codemirror_mode": {
    "name": "ipython",
    "version": 3
   },
   "file_extension": ".py",
   "mimetype": "text/x-python",
   "name": "python",
   "nbconvert_exporter": "python",
   "pygments_lexer": "ipython3",
   "version": "3.11.9"
  }
 },
 "nbformat": 4,
 "nbformat_minor": 5
}
